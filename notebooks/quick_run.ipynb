    {
 "cells": [
  {
   "cell_type": "markdown",
   "metadata": {},
   "source": [
    "# Quick run\n",
    "Use the scripts folder to train and predict.\n"
   ]
  }
 ],
 "metadata": {"kernelspec": {"display_name": "Python 3","language": "python","name": "python3"}},
 "nbformat": 4,
 "nbformat_minor": 2
}
